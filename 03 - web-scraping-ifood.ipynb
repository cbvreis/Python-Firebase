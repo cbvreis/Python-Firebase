{
 "cells": [
  {
   "cell_type": "code",
   "execution_count": 1,
   "metadata": {},
   "outputs": [],
   "source": [
    "import pandas as pd\n",
    "import requests as re\n",
    "import os\n",
    "import pprint\n",
    "import json"
   ]
  },
  {
   "cell_type": "code",
   "execution_count": 2,
   "metadata": {},
   "outputs": [],
   "source": [
    "n=200\n",
    "page = 5\n",
    "\n",
    "r = re.get(f'https://marketplace.ifood.com.br/v2/merchants?latitude=-19.9727578&longitude=-43.9370045&page={page}&channel=IFOOD&size={n}&features=&categories=&payment_types=&delivery_fee_from=0&delivery_fee_to=25&delivery_time_from=0&delivery_time_to=240')"
   ]
  },
  {
   "cell_type": "code",
   "execution_count": 3,
   "metadata": {},
   "outputs": [],
   "source": [
    "_arr=[]\n",
    "for _ in range (0,5):\n",
    "    r = re.get(f'https://marketplace.ifood.com.br/v2/merchants?latitude=-19.9727578&longitude=-43.9370045&page={_}&channel=IFOOD&size={n}&features=&categories=&payment_types=&delivery_fee_from=0&delivery_fee_to=25&delivery_time_from=0&delivery_time_to=240')\n",
    "    js = json.loads(r.text)\n",
    "    _arr+= js['merchants']"
   ]
  },
  {
   "cell_type": "code",
   "execution_count": 4,
   "metadata": {
    "scrolled": true
   },
   "outputs": [
    {
     "data": {
      "text/plain": [
       "{'id': 'a6e1c79f-d289-4783-92b1-73b4ea6e9110',\n",
       " 'name': 'Coco Bambu Bh Shopping',\n",
       " 'resources': [{'type': 'LOGO',\n",
       "   'fileName': 'a6e1c79f-d289-4783-92b1-73b4ea6e9110/202104102132_RVBb_i.png'},\n",
       "  {'type': 'HEADER',\n",
       "   'fileName': 'a6e1c79f-d289-4783-92b1-73b4ea6e9110/202103241641_THIf_c.png'}],\n",
       " 'slug': 'belo-horizonte-mg/coco-bambu-bh-shopping-belvedere',\n",
       " 'userRating': 4.3348798751831055,\n",
       " 'priceRange': 'CHEAPEST',\n",
       " 'mainCategory': {'code': 'FRU', 'name': 'Frutos Do Mar'},\n",
       " 'features': ['DELIVERY', 'TAKEOUT', 'IMMEDIATE_ORDER'],\n",
       " 'tags': ['ADDRESS_PREFORM_TYPE',\n",
       "  'CART::MCHT::TX_GRATIS_CB_100',\n",
       "  'CRITICOS_CES',\n",
       "  'CRITICOS_KAS',\n",
       "  'ESPUMANTE_JUN21',\n",
       "  'FAMOSOS',\n",
       "  'FAVORITOS_IFOOD_NOV20',\n",
       "  'GUIDED_HELP_TYPE',\n",
       "  'IFOOD_GOURMET',\n",
       "  'IMPERDIVEIS20_ABR',\n",
       "  'IMPERDIVEIS70_ABR',\n",
       "  'INVERNO_MASSAS_JUN21',\n",
       "  'KEY_ACCOUNT',\n",
       "  'MELHORES_RESTAURANTES_CHURN_ABR21',\n",
       "  'MER_ESPETINHO',\n",
       "  'NOVIDADE_IFOOD_DEZ20 ',\n",
       "  'PRATOS_ESPETINHOS',\n",
       "  'PRATOS_FEIJOADA',\n",
       "  'QTAL_GENERAL',\n",
       "  'RES_ABR21_FANTA_EG',\n",
       "  'RES_COMBOSFANTA_MIDIA',\n",
       "  'RES_JUL21_COCA_PIZZOU',\n",
       "  'RES_MAI21_COCA_SOCIAL',\n",
       "  'RES_MAI21_COCA_SOCIAL_LOJAS',\n",
       "  'RESTAURANTES_PGTO_OFF_CHURN_ABR21',\n",
       "  'REST_EXCLUSIVOS_2106',\n",
       "  'REST_FEIJOADA',\n",
       "  'SO_TEM_NO_IFOOD',\n",
       "  'SUPER_RESTAURANT',\n",
       "  'VINHO_BRANCO_JUN21',\n",
       "  'VINHO_TINTO_JUN21'],\n",
       " 'paymentCodes': ['DNR',\n",
       "  'MPAY',\n",
       "  'MOVPAY_MC',\n",
       "  'RAM',\n",
       "  'MC',\n",
       "  'GPY_ELO',\n",
       "  'REC',\n",
       "  'RDREST',\n",
       "  'ELOD',\n",
       "  'GPY_MCMA',\n",
       "  'AM',\n",
       "  'MCMA',\n",
       "  'MOVPAY_AM',\n",
       "  'DIN',\n",
       "  'APL_ELOD',\n",
       "  'MOVPAY_VIS',\n",
       "  'GPY_ELOD',\n",
       "  'TRE',\n",
       "  'APL_MCMA',\n",
       "  'GPY_MC',\n",
       "  'APL_ELO',\n",
       "  'MOVPAY_HIPER',\n",
       "  'DNREST',\n",
       "  'PIX',\n",
       "  'APL_VISE',\n",
       "  'VRO',\n",
       "  'HIPER',\n",
       "  'IFE',\n",
       "  'BENVVR',\n",
       "  'VIS',\n",
       "  'RSODEX',\n",
       "  'VVREST',\n",
       "  'RED',\n",
       "  'VIREST',\n",
       "  'VR_SMA',\n",
       "  'VSREST',\n",
       "  'APL_VIS',\n",
       "  'RHIP',\n",
       "  'MOVPAY_ELO',\n",
       "  'GPY_VISE',\n",
       "  'MOVPAY_DNR',\n",
       "  'VISE',\n",
       "  'ELO',\n",
       "  'APL_MC',\n",
       "  'MEREST',\n",
       "  'GPY_VIS'],\n",
       " 'minimumOrderValue': 50.0,\n",
       " 'deliveryFee': {'type': 'FIXED', 'value': 4.9, 'originalValue': 4.9},\n",
       " 'deliveryTime': 50,\n",
       " 'distance': 0.75,\n",
       " 'available': True,\n",
       " 'merchantChain': {'id': '5af0fbfa-83d6-49eb-bd5a-a63de5eccd14',\n",
       "  'name': 'Coco Bambu *',\n",
       "  'slug': 'coco-bambu',\n",
       "  'resources': [{'type': 'LOGO'}, {'type': 'HEADER'}]},\n",
       " 'takeoutTime': 30,\n",
       " 'preparationTime': 0,\n",
       " 'deliveryMethods': [{'id': 'DEFAULT',\n",
       "   'priority': 1,\n",
       "   'type': 'FIXED',\n",
       "   'value': 4.9,\n",
       "   'originalValue': 4.9,\n",
       "   'title': 'Padrão',\n",
       "   'subtitle': 'O entregador leva até você agora',\n",
       "   'minTime': 50,\n",
       "   'maxTime': 60,\n",
       "   'mode': 'DELIVERY',\n",
       "   'schedule': {'now': True, 'shifts': [], 'timeSlots': []},\n",
       "   'deliveredBy': 'MERCHANT'},\n",
       "  {'id': 'TAKEOUT',\n",
       "   'priority': 4,\n",
       "   'type': 'FIXED',\n",
       "   'value': 0.0,\n",
       "   'title': 'Retirada',\n",
       "   'subtitle': 'Você retira seu pedido no local',\n",
       "   'minTime': 30,\n",
       "   'maxTime': 40,\n",
       "   'mode': 'TAKEOUT',\n",
       "   'schedule': {'now': True, 'shifts': [], 'timeSlots': []}}],\n",
       " 'contextSetup': {'context': 'DEFAULT',\n",
       "  'regionGroup': 'e1dbd9d8-45d6-4b33-aafc-417b8d69b06d',\n",
       "  'catalogGroup': 'ffca0022-eb43-4205-9a1b-73a72f8e3f95'},\n",
       " 'currency': 'BRL'}"
      ]
     },
     "execution_count": 4,
     "metadata": {},
     "output_type": "execute_result"
    }
   ],
   "source": [
    "_arr[0]"
   ]
  },
  {
   "cell_type": "code",
   "execution_count": 5,
   "metadata": {},
   "outputs": [],
   "source": [
    "def get_data(json) -> list:\n",
    "    \n",
    "    try:\n",
    "        _id = json['id']\n",
    "    except:\n",
    "        _id=\"\"\n",
    "    try:\n",
    "        _name = json['name']\n",
    "    except:\n",
    "        _name=\"\"\n",
    "    try:\n",
    "        _filename = json['resources'][0]['fileName']\n",
    "    except:\n",
    "        _filename=\"\"\n",
    "    try:\n",
    "        _cidade = json['slug'].split('/')[0]\n",
    "    except:\n",
    "        _cidade=\"\"\n",
    "    try:\n",
    "        _price = json['priceRange']\n",
    "    except:\n",
    "        _price=\"\"\n",
    "    try:\n",
    "        _available = json['available']\n",
    "    except:\n",
    "        _available=\"\"\n",
    "    variaveis = locals()\n",
    "    variaveis.pop('json')\n",
    "    return list(variaveis.values())\n",
    "    "
   ]
  },
  {
   "cell_type": "code",
   "execution_count": 6,
   "metadata": {},
   "outputs": [],
   "source": [
    "res = list()\n",
    "for _ in _arr:\n",
    "    res.append(get_data(_))"
   ]
  },
  {
   "cell_type": "code",
   "execution_count": 7,
   "metadata": {},
   "outputs": [],
   "source": [
    "df = pd.DataFrame(res,columns=['id','nome','img','localizacao','preco','disponibilidade'])"
   ]
  },
  {
   "cell_type": "code",
   "execution_count": 8,
   "metadata": {},
   "outputs": [],
   "source": [
    "base = 'https://static-images.ifood.com.br/image/upload/t_thumbnail/logosgde/'\n",
    "df['img'] = df['img'].apply(lambda x: base + x)"
   ]
  },
  {
   "cell_type": "code",
   "execution_count": 9,
   "metadata": {},
   "outputs": [],
   "source": [
    "def download_logos(id_: str,  resource: str) -> None:\n",
    "        pics_path = 'pics'\n",
    "        if not os.path.exists(pics_path):\n",
    "            os.mkdir(pics_path)\n",
    "        \n",
    "        posfix = resource.split(\".\")[-1]\n",
    "        file_name = f\"{id_}.{posfix}\"\n",
    "        \n",
    "        file_path = os.path.join(os.getcwd(), pics_path, file_name)\n",
    "        \n",
    "        try:\n",
    "            response = re.get(url=resource,timeout=10)\n",
    "        except Exception as e:\n",
    "            print(e)\n",
    "        else:  \n",
    "            with open(file_path, 'wb') as f:\n",
    "                f.write(response.content)\n",
    "        "
   ]
  },
  {
   "cell_type": "code",
   "execution_count": 10,
   "metadata": {},
   "outputs": [],
   "source": [
    "for _,row in df.iterrows():\n",
    "    download_logos(row.id,row.img)"
   ]
  },
  {
   "cell_type": "code",
   "execution_count": 11,
   "metadata": {},
   "outputs": [],
   "source": [
    "df.to_csv('lojas-ifood.csv')"
   ]
  }
 ],
 "metadata": {
  "kernelspec": {
   "display_name": "Python 3",
   "language": "python",
   "name": "python3"
  },
  "language_info": {
   "codemirror_mode": {
    "name": "ipython",
    "version": 3
   },
   "file_extension": ".py",
   "mimetype": "text/x-python",
   "name": "python",
   "nbconvert_exporter": "python",
   "pygments_lexer": "ipython3",
   "version": "3.8.5"
  }
 },
 "nbformat": 4,
 "nbformat_minor": 4
}
